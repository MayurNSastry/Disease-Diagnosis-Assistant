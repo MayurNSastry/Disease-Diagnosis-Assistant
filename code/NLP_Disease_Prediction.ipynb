{
 "cells": [
  {
   "cell_type": "code",
   "execution_count": 5,
   "id": "dac30ae4-af5e-4bc0-ab0c-397f71c7c87d",
   "metadata": {},
   "outputs": [
    {
     "name": "stdout",
     "output_type": "stream",
     "text": [
      "Semantic similarity between 'coughing with blood' and 'blood while coughing' = 0.97196984\n",
      "Semantic similarity between 'coughing with blood' and 'coughing' = 0.7482288\n"
     ]
    }
   ],
   "source": [
    "from sentence_transformers import SentenceTransformer\n",
    "from sklearn.metrics.pairwise import cosine_similarity\n",
    "\n",
    "# Initialize the pre-trained model\n",
    "model = SentenceTransformer('all-MiniLM-L6-v2')  # Small, fast model; you can also use 'paraphrase-MiniLM-L6-v2' or other larger models\n",
    "\n",
    "def compute_similarity(phrase1, phrase2):\n",
    "    # Encode the phrases\n",
    "    embeddings = model.encode([phrase1, phrase2])\n",
    "\n",
    "    # Compute cosine similarity\n",
    "    similarity = cosine_similarity([embeddings[0]], [embeddings[1]])[0][0]\n",
    "    return similarity\n",
    "\n",
    "# Example usage\n",
    "phrase1 = \"coughing\"\n",
    "phrase = \"coughing with blood\"\n",
    "phrase2 = \"blood while coughing\"\n",
    "similarity_score1 = compute_similarity(phrase, phrase1)\n",
    "similarity_score2 = compute_similarity(phrase, phrase2)\n",
    "\n",
    "print(f\"Semantic similarity between '\",phrase,\"' and '\", phrase2, \"' = \", similarity_score2,  sep ='')\n",
    "print(f\"Semantic similarity between '\",phrase,\"' and '\", phrase1, \"' = \", similarity_score1, sep ='')"
   ]
  },
  {
   "cell_type": "code",
   "execution_count": 5,
   "id": "f386fdb1-6871-44a0-b0f6-a6daf1cf11de",
   "metadata": {},
   "outputs": [
    {
     "data": {
      "text/plain": [
       "['abdominal cramp',\n",
       " 'abdominal distention',\n",
       " 'abnormal behavior',\n",
       " 'abnormal bleeding',\n",
       " 'abnormal sensation',\n",
       " 'abnormally frequent',\n",
       " 'abscess',\n",
       " 'aching',\n",
       " 'acne',\n",
       " 'acquiring drinking alcohol taking lot time']"
      ]
     },
     "execution_count": 5,
     "metadata": {},
     "output_type": "execute_result"
    }
   ],
   "source": [
    "import pandas as pd\n",
    "df_comb = pd.read_csv(\"dis_sym_dataset_comb.csv\")\n",
    "symptoms= list(df_comb.columns)[1:]\n",
    "symptoms[:10]"
   ]
  },
  {
   "cell_type": "code",
   "execution_count": 9,
   "id": "8e3aee9d",
   "metadata": {},
   "outputs": [
    {
     "data": {
      "text/plain": [
       "'coughing blood'"
      ]
     },
     "execution_count": 9,
     "metadata": {},
     "output_type": "execute_result"
    }
   ],
   "source": [
    "def find_best_matched_symptom(description):\n",
    "        similarities = [(compute_similarity(symptom, description), symptom) for symptom in symptoms]\n",
    "        return sorted(similarities)[-1][1]\n",
    "find_best_matched_symptom(\"blood while coughing\")"
   ]
  }
 ],
 "metadata": {
  "kernelspec": {
   "display_name": "Python 3",
   "language": "python",
   "name": "python3"
  },
  "language_info": {
   "codemirror_mode": {
    "name": "ipython",
    "version": 3
   },
   "file_extension": ".py",
   "mimetype": "text/x-python",
   "name": "python",
   "nbconvert_exporter": "python",
   "pygments_lexer": "ipython3",
   "version": "3.10.0"
  }
 },
 "nbformat": 4,
 "nbformat_minor": 5
}
